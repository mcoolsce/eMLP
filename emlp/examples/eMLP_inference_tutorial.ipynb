{
 "cells": [
  {
   "cell_type": "markdown",
   "metadata": {},
   "source": [
    "# eMLP Inference Tutorial\n",
    "\n",
    "In this tutorial, we will use a pretrained eMLP model to compute certain properties and perform MD simulations. We will start from one of the eQM7 models, which was trained by using data augmentation. The model is stored at the location `models/eQM7_aug1`. That model can be loaded as follows:"
   ]
  },
  {
   "cell_type": "code",
   "execution_count": null,
   "metadata": {},
   "outputs": [],
   "source": [
    "import os\n",
    "os.environ['TF_CPP_MIN_LOG_LEVEL'] = '3'\n",
    "\n",
    "import numpy as np\n",
    "import tensorflow as tf"
   ]
  },
  {
   "cell_type": "code",
   "execution_count": null,
   "metadata": {},
   "outputs": [],
   "source": [
    "from emlp.longrange import LongrangeCoulomb, LongrangeEwald\n",
    "from emlp.reference import ConstantFragmentsReference\n",
    "from emlp.schnet import SchNet"
   ]
  },
  {
   "cell_type": "code",
   "execution_count": null,
   "metadata": {},
   "outputs": [],
   "source": [
    "model = SchNet.from_restore_file('models/eQM7_aug1', longrange_compute = LongrangeCoulomb(), reference = ConstantFragmentsReference(float_type = tf.float64), float_type = 64, xla = False)"
   ]
  },
  {
   "cell_type": "markdown",
   "metadata": {},
   "source": [
    "One can ignore the warnings about checkpointed values that are not bound. The arguments to load the models were explained in the notebook to train the eMLP. Here, it is important to stress that one can change the precision of the model, i.e. using *float32* or *float64*. If one wants to use the eMLP to perform geometry optimizations or use the Born-Oppenheimer mode of the eMLP, float64 is required. Otherwise, one can use float32 without any issues."
   ]
  },
  {
   "cell_type": "markdown",
   "metadata": {},
   "source": [
    "## Validating xyz files\n",
    "\n",
    "As a first example, we will use the eMLP to compute energies and forces for a single configuration. First, we will load the first configuration from the validation set and filter the core centers:"
   ]
  },
  {
   "cell_type": "code",
   "execution_count": null,
   "metadata": {},
   "outputs": [],
   "source": [
    "from emlp.help_functions import load_xyz, filter_cores\n",
    "for data in load_xyz('data/validation.xyz'):\n",
    "    all_numbers = data['Z']\n",
    "    all_positions = data['pos']\n",
    "    all_forces = data['force']\n",
    "    energy = data['energy']\n",
    "    efield = data['efield']\n",
    "    break\n",
    "    \n",
    "centers = all_positions[np.where(all_numbers == 99)]\n",
    "positions = all_positions[np.where(all_numbers != 99)]\n",
    "numbers = all_numbers[np.where(all_numbers != 99)]\n",
    "forces = all_forces[np.where(all_numbers != 99)]\n",
    "centers = filter_cores(centers, positions, numbers)"
   ]
  },
  {
   "cell_type": "markdown",
   "metadata": {},
   "source": [
    "Next, we will perform one static calculation (the electron pairs stay in their reference positions)"
   ]
  },
  {
   "cell_type": "code",
   "execution_count": null,
   "metadata": {},
   "outputs": [],
   "source": [
    "output = model.compute_static(positions, numbers, centers, rvec = np.eye(3) * 100, efield = efield, list_of_properties = ['energy', 'forces'])\n",
    "print(output)"
   ]
  },
  {
   "cell_type": "markdown",
   "metadata": {},
   "source": [
    "By specifying the `list_of_properties` argument, one can choose what kind of properties that the eMLP will compute. For this specific configuration the energy and force MAE errors are:"
   ]
  },
  {
   "cell_type": "code",
   "execution_count": null,
   "metadata": {},
   "outputs": [],
   "source": [
    "def MAE(x, y):\n",
    "    return np.mean(np.abs(x - y))\n",
    "print('MAE energy: ', MAE(energy, output['energy']), ' eV')\n",
    "print('MAE forces: ', MAE(forces, output['forces']), ' eV/A')\n",
    "print('MAE center forces: ', MAE(np.zeros(centers.shape), output['center_forces']), ' eV/A')"
   ]
  },
  {
   "cell_type": "markdown",
   "metadata": {},
   "source": [
    "A dynamic simulation can be performed as well. There, the energy is minimized with respect to the electron pair positions:"
   ]
  },
  {
   "cell_type": "code",
   "execution_count": null,
   "metadata": {},
   "outputs": [],
   "source": [
    "output = model.compute(positions, numbers, rvec = np.eye(3) * 100, efield = efield, init_centers = centers, list_of_properties = ['energy', 'forces'])\n",
    "print(output)"
   ]
  },
  {
   "cell_type": "markdown",
   "metadata": {},
   "source": [
    "Again, we can compute the errors and the electron pair displacements from the PBE0 reference positions:"
   ]
  },
  {
   "cell_type": "code",
   "execution_count": null,
   "metadata": {},
   "outputs": [],
   "source": [
    "print('MAE energy: ', MAE(energy, output['energy']), ' eV')\n",
    "print('MAE forces: ', MAE(forces, output['forces']), ' eV/A')\n",
    "print('MAE center forces: ', MAE(np.zeros(centers.shape), output['center_forces']), ' eV/A')\n",
    "print('MAE center displacement: ', MAE(centers, output['centers']), ' A')"
   ]
  },
  {
   "cell_type": "markdown",
   "metadata": {},
   "source": [
    "Here, the error on the forces of the centers should be approximately zero, since we have optimized their positions. The eMLP equilibrium positions of the electron centers are stored in `output['centers']`."
   ]
  },
  {
   "cell_type": "markdown",
   "metadata": {},
   "source": [
    "## Molecular dynamics simulation\n",
    "\n",
    "Molecular dynamics simulations with the eMLP can be done with [Yaff](https://github.com/molmod/yaff). Basically, the eMLP provides a Yaff wrapper around the `model.compute()` function (see above). Hence, it is possible to perform MD simulations with other codes when writing your own wrapper around that function. Here, in Yaff, an NVT simulation can be performed as follows:"
   ]
  },
  {
   "cell_type": "code",
   "execution_count": null,
   "metadata": {},
   "outputs": [],
   "source": [
    "from yaff import *\n",
    "from emlp.md import NVT\n",
    "system = System(numbers, positions * angstrom)\n",
    "NVT(system, model, steps = 100, centers = centers, screenprint = 10, nprint = 1, dt = 0.5, temp = 300,\n",
    "    name = 'md_run1', efield = [0.0, 0.0, 0.0])"
   ]
  },
  {
   "cell_type": "markdown",
   "metadata": {},
   "source": [
    "The code above should have performed an NVT simulation for `steps=100` steps, with a timestep of `dt` fs at a temperature of `temp`. It will write the positions and centers every `nprint` steps in an extended xyz file at the location `name`. Every `screenprint` steps, progress will be written to the screen."
   ]
  },
  {
   "cell_type": "markdown",
   "metadata": {},
   "source": [
    "## Computation of the Hessian matrix and stiffness constants\n",
    "\n",
    "In this section, we will compute a full extended Hessian with the eMLP and use it to compute analytical stiffness constant of beta-glycine. In the `models` directory we have provided a pretrained model for beta-glycine. Since it is a periodic system, we will load our system as follows:"
   ]
  },
  {
   "cell_type": "code",
   "execution_count": null,
   "metadata": {},
   "outputs": [],
   "source": [
    "model = SchNet.from_restore_file('models/beta', longrange_compute = LongrangeEwald(gcut=0.25, real_space_cancellation = True), reference = -3158.888879, float_type = 64)"
   ]
  },
  {
   "cell_type": "markdown",
   "metadata": {},
   "source": [
    "First, we have to compute the equilibrium geometry and cell of beta-glycine with the eMLP. This should take approximately 120 optimization steps. Only after the optimization, the Hessian will be positive definite."
   ]
  },
  {
   "cell_type": "code",
   "execution_count": null,
   "metadata": {},
   "outputs": [],
   "source": [
    "for data in load_xyz('data/beta_glycine.xyz'):\n",
    "    centers = data['pos'][np.where(data['Z'] == 99)]\n",
    "    positions = data['pos'][np.where(data['Z'] != 99)]\n",
    "    numbers = data['Z'][np.where(data['Z'] != 99)]\n",
    "    rvec = data['Lattice'].reshape([3, 3])\n",
    "N = positions.shape[0]\n",
    "C = centers.shape[0]\n",
    "print('Num atomic cores: ', N)\n",
    "print('Num electron pairs: ', C)"
   ]
  },
  {
   "cell_type": "code",
   "execution_count": null,
   "metadata": {},
   "outputs": [],
   "source": [
    "from emlp.md import Optimize\n",
    "positions, centers, rvec = Optimize(model, positions, numbers, centers, rvec, log='opt.xyz', fullcell=True)"
   ]
  },
  {
   "cell_type": "markdown",
   "metadata": {},
   "source": [
    "With the `fullcell` argument one can specify whether or not also optimize the energy with respect to the full cell matrix. Next, one should compute the full extended Hessian (this should take a few seconds on a GPU):"
   ]
  },
  {
   "cell_type": "code",
   "execution_count": null,
   "metadata": {},
   "outputs": [],
   "source": [
    "full_hessian = model.compute_hessian(positions, numbers, centers, efield = [0, 0, 0], rvec = rvec, include_rvec = True, include_efield = True)\n",
    "print(full_hessian.shape)"
   ]
  },
  {
   "cell_type": "markdown",
   "metadata": {},
   "source": [
    "For a system with N atomic cores and C electron pairs, the Hessian matrix has a shape of 3N + 3C + 9 + 3 by 3N + 3C + 9 + 3. Since the 3N degrees of freedom of the atomic cores, the 3C degrees of freedom of the electron pairs, the 9 cell degrees of freedom and the 3 electric field degrees of freedom are included. Note that the latter 3 degrees of freedom are not necessary to compute the stiffness tensor (but are necessary to compute piezoelectric constants for instance)."
   ]
  },
  {
   "cell_type": "code",
   "execution_count": null,
   "metadata": {},
   "outputs": [],
   "source": [
    "def to_voigt(C, symmetrize=True):\n",
    "    ''' This functions symmetrizes the stiffness constant and converts it to voigt notation'''\n",
    "    C = (C + np.transpose(C, (0, 1, 3, 2))) / 2.\n",
    "    C = (C + np.transpose(C, (1, 0, 2, 3))) / 2.\n",
    "    C = (C + np.transpose(C, (2, 3, 0, 1))) / 2.\n",
    "    result = np.zeros([6, 6])\n",
    "    key_map = {0: (0, 0), 1: (1, 1), 2: (2, 2), 3: (1, 2), 4: (0, 2), 5: (0, 1)}\n",
    "    for i in range(6):\n",
    "        for j in range(6):\n",
    "            key_0, key_1 = key_map[i]\n",
    "            key_2, key_3 = key_map[j]\n",
    "            result[i, j] = C[key_0, key_1, key_2, key_3]\n",
    "    return result"
   ]
  },
  {
   "cell_type": "code",
   "execution_count": null,
   "metadata": {},
   "outputs": [],
   "source": [
    "def compute_stiffness_tensor(hessian, rvec, ridge=1e-10):\n",
    "    ''' This function computes the stiffness constant from a 3N + 3C + 9 by 3N + 3C + 9 matrix'''\n",
    "    haa = hessian[-9:,-9:]\n",
    "    haa = (haa + haa.T) / 2.\n",
    "    haf = (hessian[-9:,:-9] + hessian[:-9, -9:].T) / 2.\n",
    "    hff = hessian[:-9,:-9]\n",
    "    hff = (hff + hff.T) / 2.\n",
    "\n",
    "    evals, evecs = np.linalg.eigh(hff)\n",
    "    hafevecs = np.dot(haf, evecs)\n",
    "    evalsinv = evals / (evals**2+ridge**2)\n",
    "    effective_hessian = haa - np.dot(hafevecs*evalsinv, hafevecs.T)\n",
    "    np.testing.assert_allclose(effective_hessian, effective_hessian.T)\n",
    "    \n",
    "    volume = np.linalg.det(rvec)\n",
    "    \n",
    "    C = np.einsum('mk,gi,gjml->ijkl', rvec, rvec, np.reshape(effective_hessian, [3, 3, 3, 3]), optimize=True) / volume\n",
    "    C *= electronvolt / angstrom**3 / (1e+09 * pascal)\n",
    "    return C # [3, 3, 3, 3]"
   ]
  },
  {
   "cell_type": "code",
   "execution_count": null,
   "metadata": {},
   "outputs": [],
   "source": [
    "T = N + C\n",
    "stiffness_tensor = compute_stiffness_tensor(full_hessian[:T*3 + 9, :T*3+9], rvec)\n",
    "stiffness_tensor_voigt = to_voigt(stiffness_tensor)\n",
    "print(np.diag(stiffness_tensor_voigt))"
   ]
  },
  {
   "cell_type": "markdown",
   "metadata": {},
   "source": [
    "The six numbers above are the diagonal components of the stiffness tensor of beta_glycine in GPa. More information about how to compute the tensor analytically can be found in the eMLP paper."
   ]
  }
 ],
 "metadata": {
  "kernelspec": {
   "display_name": "NNFF",
   "language": "python",
   "name": "nnff"
  },
  "language_info": {
   "codemirror_mode": {
    "name": "ipython",
    "version": 3
   },
   "file_extension": ".py",
   "mimetype": "text/x-python",
   "name": "python",
   "nbconvert_exporter": "python",
   "pygments_lexer": "ipython3",
   "version": "3.8.10"
  }
 },
 "nbformat": 4,
 "nbformat_minor": 2
}
